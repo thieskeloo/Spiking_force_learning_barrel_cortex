{
 "cells": [
  {
   "cell_type": "code",
   "execution_count": null,
   "id": "f64d0bd7-4871-4cd3-b75f-3e8e3eb29f5f",
   "metadata": {},
   "outputs": [],
   "source": []
  }
 ],
 "metadata": {
  "kernelspec": {
   "display_name": "",
   "name": ""
  },
  "language_info": {
   "name": ""
  }
 },
 "nbformat": 4,
 "nbformat_minor": 5
}
